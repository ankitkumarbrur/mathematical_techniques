{
 "metadata": {
  "language_info": {
   "codemirror_mode": {
    "name": "ipython",
    "version": 3
   },
   "file_extension": ".py",
   "mimetype": "text/x-python",
   "name": "python",
   "nbconvert_exporter": "python",
   "pygments_lexer": "ipython3",
   "version": "3.8.1-final"
  },
  "orig_nbformat": 2,
  "kernelspec": {
   "name": "python38132bitvenvvenv91270e11641b484ca834f7666afa2651",
   "display_name": "Python 3.8.1 32-bit ('venv': venv)",
   "language": "python"
  }
 },
 "nbformat": 4,
 "nbformat_minor": 2,
 "cells": [
  {
   "source": [
    "# MENU\n",
    "1.\tMultiplication of two given matrixes \n",
    "2.\tSum of the diagonal elements of a given Matrix \n",
    "3.\tElement-wise Matrix Multiplication (Hadamard Product)\n",
    "4.\tOuter product of two given vectors\n",
    "5.\tDeterminant of a given square matrix\n",
    "\n",
    "Additional set of exercises:\n",
    "\n",
    "1.\tWrite a program to find the maximum and minimum from a given vector. Your implementation should be computationally efficient. \n",
    "2.\tCan we think of a program to find all linearly independent vectors from a set of N, d-dimensional vectors?\n"
   ],
   "cell_type": "markdown",
   "metadata": {}
  },
  {
   "cell_type": "code",
   "execution_count": 1,
   "metadata": {},
   "outputs": [],
   "source": [
    "import numpy as np\n",
    "import sympy"
   ]
  },
  {
   "cell_type": "code",
   "execution_count": 2,
   "metadata": {},
   "outputs": [],
   "source": [
    "a = np.array([[1,2],[3,4]])\n",
    "b = np.array([[5,6],[7,8]])"
   ]
  },
  {
   "cell_type": "code",
   "execution_count": 3,
   "metadata": {},
   "outputs": [
    {
     "output_type": "stream",
     "name": "stdout",
     "text": [
      "1. Multiplication of given matrixes :\n [[19 22]\n [43 50]]\n\n2. Trace of given matrix A :\t 5\n   Trace of given matrix A :\t 13\n\n3. Element-wise Matrix Multiplication (Hadamard Product) :\n [[ 5 12]\n [21 32]]\n\n4. Outer Product :\n [[ 5  6  7  8]\n [10 12 14 16]\n [15 18 21 24]\n [20 24 28 32]]\n\n5. Determinant of matrix A :\t -2.0000000000000004\n   Determinant of matrix B :\t -2.000000000000005\n"
     ]
    }
   ],
   "source": [
    "print(\"1. Multiplication of given matrixes :\\n\",    np.dot(a,b))\n",
    "print(\"\\n2. Trace of given matrix A :\\t\",           np.trace(a))\n",
    "print(\"   Trace of given matrix A :\\t\",             np.trace(b))\n",
    "print(\"\\n3. Element-wise Matrix Multiplication (Hadamard Product) :\\n\",np.multiply(a,b))\n",
    "print(\"\\n4. Outer Product :\\n\",                     np.outer(a,b))\n",
    "print(\"\\n5. Determinant of matrix A :\\t\",           np.linalg.det(a))\n",
    "print(\"   Determinant of matrix B :\\t\",             np.linalg.det(b))\n",
    "\n",
    "\n",
    "\n"
   ]
  },
  {
   "cell_type": "code",
   "execution_count": 4,
   "metadata": {},
   "outputs": [
    {
     "output_type": "stream",
     "name": "stdout",
     "text": [
      "Max in the given vector:  5\nMax in the given vector:  1\n"
     ]
    }
   ],
   "source": [
    "arr = np.array([1, 2, 3, 4, 5])\n",
    "print(\"Max in the given vector: \",np.max(arr))\n",
    "print(\"Max in the given vector: \",np.min(arr))\n"
   ]
  },
  {
   "cell_type": "code",
   "execution_count": 5,
   "metadata": {},
   "outputs": [],
   "source": [
    "matrix = np.array(\n",
    "    [\n",
    "        [1, 0, 0, 1],\n",
    "        [0, 1 ,0 ,0],\n",
    "        [0, 0, 1, 0],\n",
    "        [0, 1, 1, 0],\n",
    "    ])\n",
    "\n",
    "red_matrix, inds = sympy.Matrix(matrix).T.rref()"
   ]
  },
  {
   "cell_type": "code",
   "execution_count": 6,
   "metadata": {},
   "outputs": [
    {
     "output_type": "stream",
     "name": "stdout",
     "text": [
      "Independent vectors\n[1 0 0 1]\n[0 1 0 0]\n[0 0 1 0]\n"
     ]
    }
   ],
   "source": [
    "print(\"Independent vectors\")\n",
    "for i in inds:\n",
    "    print(matrix[i])"
   ]
  }
 ]
}